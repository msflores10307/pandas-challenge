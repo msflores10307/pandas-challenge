{
 "cells": [
  {
   "cell_type": "markdown",
   "metadata": {},
   "source": [
    "# Heroes of Pymoli - Data Analysis\n",
    "\n",
    "##### Summary Notes\n",
    "###### Who plays Heroes of Pymoli?\n",
    "Heroes of Pymoli has 576 players. Of these players 84.03% of the players are male. \n",
    "The biggest age group in this game is 20-24, which had 44.8% of the players (258 players).\n",
    "Young men are the most avide players of the game.\n",
    "\n",
    "###### Who spends the most money on Heroes of Pymoli?\n",
    "The biggest proportion of revenue comes from players in the 20-24 group. \n",
    "Although their average purchase value per person is lower than in other age categories,\n",
    "they account for the most purchses.\n",
    "\n",
    "Although, the 35-39 age group is smaller and accounts for fewer purchases, their average\n",
    "purchase value per person is the highest. This indicates that players in this age group \n",
    "are more likely to make big purchases than players in other categories. \n",
    "\n",
    "###### What sells in Heroes of Pymoli?\n",
    "\n",
    "The top selling item in Heroes of Pymoli is \"Final Critic\". Because there are so many items\n",
    "available in the game, no one item accounts for a very large portion of the revenue. This suggests\n",
    "that sales are driven specific player wants and needs. Though, the a popular item that\n",
    "sells consistently suggests a popular configuration of class build and items that may be especially\n",
    "beneficial to certain types of players. Though, further data would be required to identify these patterns."
   ]
  },
  {
   "cell_type": "code",
   "execution_count": 31,
   "metadata": {},
   "outputs": [],
   "source": [
    "# Import Dependencies\n",
    "import os\n",
    "import pandas as pd\n",
    "import csv"
   ]
  },
  {
   "cell_type": "code",
   "execution_count": 32,
   "metadata": {},
   "outputs": [],
   "source": [
    "# Create path for raw data file.\n",
    "data_path = os.path.join(\".\",\"Resources\",\"purchase_data.csv\")"
   ]
  },
  {
   "cell_type": "code",
   "execution_count": 33,
   "metadata": {},
   "outputs": [],
   "source": [
    "# Read Data into dataframe.\n",
    "purchase_df = pd.read_csv(data_path)"
   ]
  },
  {
   "cell_type": "markdown",
   "metadata": {},
   "source": [
    "# Summary Calculations"
   ]
  },
  {
   "cell_type": "markdown",
   "metadata": {},
   "source": [
    "### Number of Unique Players"
   ]
  },
  {
   "cell_type": "code",
   "execution_count": 34,
   "metadata": {},
   "outputs": [
    {
     "name": "stdout",
     "output_type": "stream",
     "text": [
      "576\n"
     ]
    }
   ],
   "source": [
    "## Calculate Number of Unique Players\n",
    "sn = purchase_df[\"SN\"].unique()\n",
    "player_count = len(sn)\n",
    "print(player_count)"
   ]
  },
  {
   "cell_type": "markdown",
   "metadata": {},
   "source": [
    "### Number of Unique Items"
   ]
  },
  {
   "cell_type": "code",
   "execution_count": 35,
   "metadata": {},
   "outputs": [
    {
     "name": "stdout",
     "output_type": "stream",
     "text": [
      "179\n"
     ]
    }
   ],
   "source": [
    "## Calculate Number of Unique Items\n",
    "itemid = purchase_df[\"Item ID\"].unique()\n",
    "item_count = len(itemid)\n",
    "print(item_count)"
   ]
  },
  {
   "cell_type": "markdown",
   "metadata": {},
   "source": [
    "### Average Purchase Price"
   ]
  },
  {
   "cell_type": "code",
   "execution_count": 36,
   "metadata": {},
   "outputs": [
    {
     "name": "stdout",
     "output_type": "stream",
     "text": [
      "3.050987179487176\n"
     ]
    }
   ],
   "source": [
    "## Calculate Average Purchase Price\n",
    "avg_price = purchase_df[\"Price\"].mean()\n",
    "print(avg_price)"
   ]
  },
  {
   "cell_type": "markdown",
   "metadata": {},
   "source": [
    "### Total Purchases"
   ]
  },
  {
   "cell_type": "code",
   "execution_count": 37,
   "metadata": {},
   "outputs": [
    {
     "name": "stdout",
     "output_type": "stream",
     "text": [
      "780\n"
     ]
    }
   ],
   "source": [
    "# Calculate Total Purchases\n",
    "purchase_id = purchase_df[\"Purchase ID\"]\n",
    "purchase_count = len(purchase_id)\n",
    "print(purchase_count)"
   ]
  },
  {
   "cell_type": "markdown",
   "metadata": {},
   "source": [
    "### Total Revenue "
   ]
  },
  {
   "cell_type": "code",
   "execution_count": 38,
   "metadata": {
    "scrolled": true
   },
   "outputs": [
    {
     "name": "stdout",
     "output_type": "stream",
     "text": [
      "2379.77\n"
     ]
    }
   ],
   "source": [
    "## Calculate Total Revenue\n",
    "price_df = purchase_df[\"Price\"]\n",
    "total_revenue = price_df.sum()\n",
    "print(total_revenue)"
   ]
  },
  {
   "cell_type": "markdown",
   "metadata": {},
   "source": [
    "## Gender Demographics"
   ]
  },
  {
   "cell_type": "code",
   "execution_count": 56,
   "metadata": {
    "scrolled": true
   },
   "outputs": [],
   "source": [
    "# Creating Gender Aggregate\n",
    "gender_agg = purchase_df.groupby(\"Gender\")\n",
    "gender_count = pd.DataFrame(gender_agg.nunique())\n"
   ]
  },
  {
   "cell_type": "code",
   "execution_count": 57,
   "metadata": {},
   "outputs": [
    {
     "data": {
      "text/html": [
       "<div>\n",
       "<style scoped>\n",
       "    .dataframe tbody tr th:only-of-type {\n",
       "        vertical-align: middle;\n",
       "    }\n",
       "\n",
       "    .dataframe tbody tr th {\n",
       "        vertical-align: top;\n",
       "    }\n",
       "\n",
       "    .dataframe thead th {\n",
       "        text-align: right;\n",
       "    }\n",
       "</style>\n",
       "<table border=\"1\" class=\"dataframe\">\n",
       "  <thead>\n",
       "    <tr style=\"text-align: right;\">\n",
       "      <th></th>\n",
       "      <th>Player Count</th>\n",
       "      <th>Percentage</th>\n",
       "    </tr>\n",
       "    <tr>\n",
       "      <th>Gender</th>\n",
       "      <th></th>\n",
       "      <th></th>\n",
       "    </tr>\n",
       "  </thead>\n",
       "  <tbody>\n",
       "    <tr>\n",
       "      <th>Male</th>\n",
       "      <td>484</td>\n",
       "      <td>84.03%</td>\n",
       "    </tr>\n",
       "    <tr>\n",
       "      <th>Female</th>\n",
       "      <td>81</td>\n",
       "      <td>14.06%</td>\n",
       "    </tr>\n",
       "    <tr>\n",
       "      <th>Other / Non-Disclosed</th>\n",
       "      <td>11</td>\n",
       "      <td>1.91%</td>\n",
       "    </tr>\n",
       "  </tbody>\n",
       "</table>\n",
       "</div>"
      ],
      "text/plain": [
       "                       Player Count Percentage\n",
       "Gender                                        \n",
       "Male                            484     84.03%\n",
       "Female                           81     14.06%\n",
       "Other / Non-Disclosed            11      1.91%"
      ]
     },
     "execution_count": 57,
     "metadata": {},
     "output_type": "execute_result"
    }
   ],
   "source": [
    "# Counts and Percentages by Gender\n",
    "gender_count[\"Percentage\"] = 100*gender_count[\"SN\"]/player_count\n",
    "gender_count[\"Percentage\"] = gender_count[\"Percentage\"].map(\"{:.4}%\".format)\n",
    "gender_count = gender_count[['SN','Percentage']].sort_values(\"Percentage\",ascending = False).rename(columns = {\"SN\":\"Player Count\"})\n",
    "gender_count"
   ]
  },
  {
   "cell_type": "markdown",
   "metadata": {},
   "source": [
    "## Purchasing Analysis - Gender\n"
   ]
  },
  {
   "cell_type": "code",
   "execution_count": 22,
   "metadata": {},
   "outputs": [
    {
     "data": {
      "text/html": [
       "<div>\n",
       "<style scoped>\n",
       "    .dataframe tbody tr th:only-of-type {\n",
       "        vertical-align: middle;\n",
       "    }\n",
       "\n",
       "    .dataframe tbody tr th {\n",
       "        vertical-align: top;\n",
       "    }\n",
       "\n",
       "    .dataframe thead th {\n",
       "        text-align: right;\n",
       "    }\n",
       "</style>\n",
       "<table border=\"1\" class=\"dataframe\">\n",
       "  <thead>\n",
       "    <tr style=\"text-align: right;\">\n",
       "      <th></th>\n",
       "      <th>Purchase Count</th>\n",
       "      <th>Average Purchase Value</th>\n",
       "      <th>Avg Purchase Value Per Person</th>\n",
       "      <th>Total Sales</th>\n",
       "    </tr>\n",
       "    <tr>\n",
       "      <th>Gender</th>\n",
       "      <th></th>\n",
       "      <th></th>\n",
       "      <th></th>\n",
       "      <th></th>\n",
       "    </tr>\n",
       "  </thead>\n",
       "  <tbody>\n",
       "    <tr>\n",
       "      <th>Female</th>\n",
       "      <td>113</td>\n",
       "      <td>$3.2</td>\n",
       "      <td>$4.47</td>\n",
       "      <td>$361.94</td>\n",
       "    </tr>\n",
       "    <tr>\n",
       "      <th>Male</th>\n",
       "      <td>652</td>\n",
       "      <td>$3.02</td>\n",
       "      <td>$4.07</td>\n",
       "      <td>$1967.64</td>\n",
       "    </tr>\n",
       "    <tr>\n",
       "      <th>Other / Non-Disclosed</th>\n",
       "      <td>15</td>\n",
       "      <td>$3.35</td>\n",
       "      <td>$4.56</td>\n",
       "      <td>$50.19</td>\n",
       "    </tr>\n",
       "  </tbody>\n",
       "</table>\n",
       "</div>"
      ],
      "text/plain": [
       "                       Purchase Count Average Purchase Value  \\\n",
       "Gender                                                         \n",
       "Female                            113                   $3.2   \n",
       "Male                              652                  $3.02   \n",
       "Other / Non-Disclosed              15                  $3.35   \n",
       "\n",
       "                      Avg Purchase Value Per Person Total Sales  \n",
       "Gender                                                           \n",
       "Female                                        $4.47     $361.94  \n",
       "Male                                          $4.07    $1967.64  \n",
       "Other / Non-Disclosed                         $4.56      $50.19  "
      ]
     },
     "execution_count": 22,
     "metadata": {},
     "output_type": "execute_result"
    }
   ],
   "source": [
    "# create aggregate metrics by gender\n",
    "gender_mean = pd.DataFrame(gender_agg.mean()[\"Price\"].map(\"${:.3}\".format)).rename(columns = {\"Price\":\"Average Purchase Value\"})\n",
    "gender_sum = pd.DataFrame(gender_agg.sum()[\"Price\"])\n",
    "gender_sales = pd.DataFrame(gender_agg.sum()[\"Price\"].map(\"${:.7}\".format)).rename(columns = {\"Price\":\"Total Sales\"})\n",
    "gender_count2 = pd.DataFrame(gender_agg.count()[\"Purchase ID\"]).rename(columns = {\"Purchase ID\":\"Purchase Count\"})\n",
    "\n",
    "# calculate average perchase per player and format to dollars\n",
    "a = pd.DataFrame(gender_sum[\"Price\"].astype(float)) \n",
    "b = pd.DataFrame(gender_count[\"Player Count\"].astype(float))\n",
    "gender_mean[\"Avg Purchase Value Per Person\"] = a[\"Price\"]/b[\"Player Count\"]\n",
    "gender_mean[\"Avg Purchase Value Per Person\"] = gender_mean[\"Avg Purchase Value Per Person\"].map(\"${:.3}\".format)\n",
    "\n",
    "#merge aggregate metrics \n",
    "gender_join = gender_count2.merge(gender_mean, on = 'Gender').merge(gender_sales, on = 'Gender')\n",
    "\n",
    "#display\n",
    "gender_join"
   ]
  },
  {
   "cell_type": "markdown",
   "metadata": {},
   "source": [
    "## Age Demographics"
   ]
  },
  {
   "cell_type": "code",
   "execution_count": 12,
   "metadata": {},
   "outputs": [],
   "source": [
    "# Age Binning\n",
    "age_bounds = [0,9,14,19,24,29,34,39,44,49]\n",
    "age_names = ['Below 10','10-14','15-19','20-24','25-29','30-34','35-39','40-44','45-49']\n",
    "purchase_df[\"Age Group\"] = pd.cut(purchase_df[\"Age\"], age_bounds, labels=age_names)"
   ]
  },
  {
   "cell_type": "code",
   "execution_count": 13,
   "metadata": {},
   "outputs": [
    {
     "data": {
      "text/html": [
       "<div>\n",
       "<style scoped>\n",
       "    .dataframe tbody tr th:only-of-type {\n",
       "        vertical-align: middle;\n",
       "    }\n",
       "\n",
       "    .dataframe tbody tr th {\n",
       "        vertical-align: top;\n",
       "    }\n",
       "\n",
       "    .dataframe thead th {\n",
       "        text-align: right;\n",
       "    }\n",
       "</style>\n",
       "<table border=\"1\" class=\"dataframe\">\n",
       "  <thead>\n",
       "    <tr style=\"text-align: right;\">\n",
       "      <th></th>\n",
       "      <th>Player Count</th>\n",
       "      <th>Percentage</th>\n",
       "    </tr>\n",
       "    <tr>\n",
       "      <th>Age Group</th>\n",
       "      <th></th>\n",
       "      <th></th>\n",
       "    </tr>\n",
       "  </thead>\n",
       "  <tbody>\n",
       "    <tr>\n",
       "      <th>Below 10</th>\n",
       "      <td>17</td>\n",
       "      <td>2.95%</td>\n",
       "    </tr>\n",
       "    <tr>\n",
       "      <th>10-14</th>\n",
       "      <td>22</td>\n",
       "      <td>3.82%</td>\n",
       "    </tr>\n",
       "    <tr>\n",
       "      <th>15-19</th>\n",
       "      <td>107</td>\n",
       "      <td>18.6%</td>\n",
       "    </tr>\n",
       "    <tr>\n",
       "      <th>20-24</th>\n",
       "      <td>258</td>\n",
       "      <td>44.8%</td>\n",
       "    </tr>\n",
       "    <tr>\n",
       "      <th>25-29</th>\n",
       "      <td>77</td>\n",
       "      <td>13.4%</td>\n",
       "    </tr>\n",
       "    <tr>\n",
       "      <th>30-34</th>\n",
       "      <td>52</td>\n",
       "      <td>9.03%</td>\n",
       "    </tr>\n",
       "    <tr>\n",
       "      <th>35-39</th>\n",
       "      <td>31</td>\n",
       "      <td>5.38%</td>\n",
       "    </tr>\n",
       "    <tr>\n",
       "      <th>40-44</th>\n",
       "      <td>11</td>\n",
       "      <td>1.91%</td>\n",
       "    </tr>\n",
       "    <tr>\n",
       "      <th>45-49</th>\n",
       "      <td>1</td>\n",
       "      <td>0.174%</td>\n",
       "    </tr>\n",
       "  </tbody>\n",
       "</table>\n",
       "</div>"
      ],
      "text/plain": [
       "           Player Count Percentage\n",
       "Age Group                         \n",
       "Below 10             17      2.95%\n",
       "10-14                22      3.82%\n",
       "15-19               107      18.6%\n",
       "20-24               258      44.8%\n",
       "25-29                77      13.4%\n",
       "30-34                52      9.03%\n",
       "35-39                31      5.38%\n",
       "40-44                11      1.91%\n",
       "45-49                 1     0.174%"
      ]
     },
     "execution_count": 13,
     "metadata": {},
     "output_type": "execute_result"
    }
   ],
   "source": [
    "# calculating aggregate metrics by age group,\n",
    "age_agg = purchase_df.groupby(\"Age Group\")\n",
    "age_count = pd.DataFrame(age_agg.nunique()).rename(columns = {\"SN\":\"Player Count\"})\n",
    "age_count[\"Percentage\"] = 100*age_count[\"Player Count\"]/player_count\n",
    "age_count[\"Percentage\"] = age_count[\"Percentage\"].map(\"{:.3}%\".format)\n",
    "age_breakdown = age_count[[\"Player Count\",\"Percentage\"]]\n",
    "#display\n",
    "age_breakdown"
   ]
  },
  {
   "cell_type": "markdown",
   "metadata": {},
   "source": [
    "## Purchasing Analysis - Age"
   ]
  },
  {
   "cell_type": "code",
   "execution_count": 60,
   "metadata": {},
   "outputs": [
    {
     "data": {
      "text/html": [
       "<div>\n",
       "<style scoped>\n",
       "    .dataframe tbody tr th:only-of-type {\n",
       "        vertical-align: middle;\n",
       "    }\n",
       "\n",
       "    .dataframe tbody tr th {\n",
       "        vertical-align: top;\n",
       "    }\n",
       "\n",
       "    .dataframe thead th {\n",
       "        text-align: right;\n",
       "    }\n",
       "</style>\n",
       "<table border=\"1\" class=\"dataframe\">\n",
       "  <thead>\n",
       "    <tr style=\"text-align: right;\">\n",
       "      <th></th>\n",
       "      <th>Purchase Count</th>\n",
       "      <th>Average Purchase Value</th>\n",
       "      <th>Average Purchase Value Per Person</th>\n",
       "      <th>Total Purchase Value</th>\n",
       "    </tr>\n",
       "    <tr>\n",
       "      <th>Age Group</th>\n",
       "      <th></th>\n",
       "      <th></th>\n",
       "      <th></th>\n",
       "      <th></th>\n",
       "    </tr>\n",
       "  </thead>\n",
       "  <tbody>\n",
       "    <tr>\n",
       "      <th>Below 10</th>\n",
       "      <td>23</td>\n",
       "      <td>$3.35</td>\n",
       "      <td>$4.54</td>\n",
       "      <td>$77.13</td>\n",
       "    </tr>\n",
       "    <tr>\n",
       "      <th>10-14</th>\n",
       "      <td>28</td>\n",
       "      <td>$2.96</td>\n",
       "      <td>$3.76</td>\n",
       "      <td>$82.78</td>\n",
       "    </tr>\n",
       "    <tr>\n",
       "      <th>15-19</th>\n",
       "      <td>136</td>\n",
       "      <td>$3.04</td>\n",
       "      <td>$3.86</td>\n",
       "      <td>$412.89</td>\n",
       "    </tr>\n",
       "    <tr>\n",
       "      <th>20-24</th>\n",
       "      <td>365</td>\n",
       "      <td>$3.05</td>\n",
       "      <td>$4.32</td>\n",
       "      <td>$1114.06</td>\n",
       "    </tr>\n",
       "    <tr>\n",
       "      <th>25-29</th>\n",
       "      <td>101</td>\n",
       "      <td>$2.9</td>\n",
       "      <td>$3.81</td>\n",
       "      <td>$293.0</td>\n",
       "    </tr>\n",
       "    <tr>\n",
       "      <th>30-34</th>\n",
       "      <td>73</td>\n",
       "      <td>$2.93</td>\n",
       "      <td>$4.12</td>\n",
       "      <td>$214.0</td>\n",
       "    </tr>\n",
       "    <tr>\n",
       "      <th>35-39</th>\n",
       "      <td>41</td>\n",
       "      <td>$3.6</td>\n",
       "      <td>$4.76</td>\n",
       "      <td>$147.67</td>\n",
       "    </tr>\n",
       "    <tr>\n",
       "      <th>40-44</th>\n",
       "      <td>12</td>\n",
       "      <td>$3.04</td>\n",
       "      <td>$3.32</td>\n",
       "      <td>$36.54</td>\n",
       "    </tr>\n",
       "    <tr>\n",
       "      <th>45-49</th>\n",
       "      <td>1</td>\n",
       "      <td>$1.7</td>\n",
       "      <td>$1.7</td>\n",
       "      <td>$1.7</td>\n",
       "    </tr>\n",
       "  </tbody>\n",
       "</table>\n",
       "</div>"
      ],
      "text/plain": [
       "           Purchase Count Average Purchase Value  \\\n",
       "Age Group                                          \n",
       "Below 10               23                  $3.35   \n",
       "10-14                  28                  $2.96   \n",
       "15-19                 136                  $3.04   \n",
       "20-24                 365                  $3.05   \n",
       "25-29                 101                   $2.9   \n",
       "30-34                  73                  $2.93   \n",
       "35-39                  41                   $3.6   \n",
       "40-44                  12                  $3.04   \n",
       "45-49                   1                   $1.7   \n",
       "\n",
       "          Average Purchase Value Per Person Total Purchase Value  \n",
       "Age Group                                                         \n",
       "Below 10                              $4.54               $77.13  \n",
       "10-14                                 $3.76               $82.78  \n",
       "15-19                                 $3.86              $412.89  \n",
       "20-24                                 $4.32             $1114.06  \n",
       "25-29                                 $3.81               $293.0  \n",
       "30-34                                 $4.12               $214.0  \n",
       "35-39                                 $4.76              $147.67  \n",
       "40-44                                 $3.32               $36.54  \n",
       "45-49                                  $1.7                 $1.7  "
      ]
     },
     "execution_count": 60,
     "metadata": {},
     "output_type": "execute_result"
    }
   ],
   "source": [
    "# calculating aggregate purchasing metrics by age group\n",
    "age_mean = pd.DataFrame(age_agg.mean())\n",
    "age_sum = pd.DataFrame(age_agg.sum())\n",
    "age_purchases = pd.DataFrame(age_count.loc[:,'Purchase ID']).rename(columns = {\"Purchase ID\":\"Purchase Count\"})\n",
    "age_avgprice = pd.DataFrame(age_mean.loc[:,'Price']).rename(columns = {\"Price\":\"Average Purchase Value\"})\n",
    "age_tot = pd.DataFrame(age_sum.loc[:,'Price']).rename(columns = {\"Price\":\"Total Purchase Value\"})\n",
    "age_avgprice[\"Average Purchase Value Per Person\"] = pd.DataFrame(age_tot[\"Total Purchase Value\"]/age_breakdown[\"Player Count\"])\n",
    "\n",
    "# formatting to dollars\n",
    "age_tot[\"Total Purchase Value\"] = age_tot[\"Total Purchase Value\"].map(\"${:.6}\".format)\n",
    "age_avgprice[\"Average Purchase Value\"] = age_avgprice[\"Average Purchase Value\"].map(\"${:.3}\".format)\n",
    "age_avgprice[\"Average Purchase Value Per Person\"] = age_avgprice[\"Average Purchase Value Per Person\"].map(\"${:.3}\".format)\n",
    "\n",
    "# combining metrics into formatted data frame\n",
    "age_join = age_purchases.merge(age_avgprice, on = 'Age Group').merge(age_tot, on = \"Age Group\")\n",
    "\n",
    "# display\n",
    "age_join"
   ]
  },
  {
   "cell_type": "markdown",
   "metadata": {},
   "source": [
    "## Top Spenders"
   ]
  },
  {
   "cell_type": "code",
   "execution_count": 62,
   "metadata": {},
   "outputs": [
    {
     "data": {
      "text/html": [
       "<div>\n",
       "<style scoped>\n",
       "    .dataframe tbody tr th:only-of-type {\n",
       "        vertical-align: middle;\n",
       "    }\n",
       "\n",
       "    .dataframe tbody tr th {\n",
       "        vertical-align: top;\n",
       "    }\n",
       "\n",
       "    .dataframe thead th {\n",
       "        text-align: right;\n",
       "    }\n",
       "</style>\n",
       "<table border=\"1\" class=\"dataframe\">\n",
       "  <thead>\n",
       "    <tr style=\"text-align: right;\">\n",
       "      <th></th>\n",
       "      <th>Purchase Count</th>\n",
       "      <th>Average Purchase Value</th>\n",
       "      <th>Total Spend</th>\n",
       "    </tr>\n",
       "    <tr>\n",
       "      <th>SN</th>\n",
       "      <th></th>\n",
       "      <th></th>\n",
       "      <th></th>\n",
       "    </tr>\n",
       "  </thead>\n",
       "  <tbody>\n",
       "    <tr>\n",
       "      <th>Lisosia93</th>\n",
       "      <td>5</td>\n",
       "      <td>$3.79</td>\n",
       "      <td>$18.96</td>\n",
       "    </tr>\n",
       "    <tr>\n",
       "      <th>Idastidru52</th>\n",
       "      <td>4</td>\n",
       "      <td>$3.86</td>\n",
       "      <td>$15.45</td>\n",
       "    </tr>\n",
       "    <tr>\n",
       "      <th>Chamjask73</th>\n",
       "      <td>3</td>\n",
       "      <td>$4.61</td>\n",
       "      <td>$13.83</td>\n",
       "    </tr>\n",
       "    <tr>\n",
       "      <th>Iral74</th>\n",
       "      <td>4</td>\n",
       "      <td>$3.4</td>\n",
       "      <td>$13.62</td>\n",
       "    </tr>\n",
       "    <tr>\n",
       "      <th>Iskadarya95</th>\n",
       "      <td>3</td>\n",
       "      <td>$4.37</td>\n",
       "      <td>$13.1</td>\n",
       "    </tr>\n",
       "  </tbody>\n",
       "</table>\n",
       "</div>"
      ],
      "text/plain": [
       "             Purchase Count Average Purchase Value Total Spend\n",
       "SN                                                            \n",
       "Lisosia93                 5                  $3.79      $18.96\n",
       "Idastidru52               4                  $3.86      $15.45\n",
       "Chamjask73                3                  $4.61      $13.83\n",
       "Iral74                    4                   $3.4      $13.62\n",
       "Iskadarya95               3                  $4.37       $13.1"
      ]
     },
     "execution_count": 62,
     "metadata": {},
     "output_type": "execute_result"
    }
   ],
   "source": [
    "# Create Player level aggregate\n",
    "player_agg = purchase_df.groupby('SN')\n",
    "\n",
    "# Calculate aggregate spending metrics at the player level\n",
    "player_count = player_agg.count()\n",
    "player_tot = player_agg.sum().sort_values(\"Price\", ascending = False)\n",
    "player_avgprice = player_agg.mean()\n",
    "\n",
    "# Combining aggregate metrics\n",
    "player_join = player_tot.merge(player_avgprice,on = 'SN', suffixes = ['_tot','_avg'])\n",
    "\n",
    "# Sorting Results by Total Spend, desccending\n",
    "player_join2 = player_join.merge(player_count, on = 'SN').sort_values(\"Price_tot\", ascending = False)\n",
    "\n",
    "# Selecting the top five spenders\n",
    "top_spenders = player_join2[[\"Purchase ID\",\"Price_avg\",'Price_tot']].iloc[[0,1,2,3,4],:].rename(columns = {\"Purchase ID\":\"Purchase Count\",\"Price_avg\":\"Average Purchase Value\",\"Price_tot\":\"Total Spend\"})\n",
    "\n",
    "# formatting dollars\n",
    "top_spenders[\"Average Purchase Value\"] = top_spenders[\"Average Purchase Value\"].map(\"${:.3}\".format)\n",
    "top_spenders[\"Total Spend\"] = top_spenders[\"Total Spend\"].map(\"${:.4}\".format)\n",
    "\n",
    "# display\n",
    "top_spenders"
   ]
  },
  {
   "cell_type": "markdown",
   "metadata": {},
   "source": [
    "## Most Popular Items"
   ]
  },
  {
   "cell_type": "code",
   "execution_count": 16,
   "metadata": {},
   "outputs": [
    {
     "name": "stderr",
     "output_type": "stream",
     "text": [
      "C:\\Users\\msflo\\anaconda3\\lib\\site-packages\\ipykernel_launcher.py:21: SettingWithCopyWarning: \n",
      "A value is trying to be set on a copy of a slice from a DataFrame.\n",
      "Try using .loc[row_indexer,col_indexer] = value instead\n",
      "\n",
      "See the caveats in the documentation: https://pandas.pydata.org/pandas-docs/stable/user_guide/indexing.html#returning-a-view-versus-a-copy\n",
      "C:\\Users\\msflo\\anaconda3\\lib\\site-packages\\ipykernel_launcher.py:22: SettingWithCopyWarning: \n",
      "A value is trying to be set on a copy of a slice from a DataFrame.\n",
      "Try using .loc[row_indexer,col_indexer] = value instead\n",
      "\n",
      "See the caveats in the documentation: https://pandas.pydata.org/pandas-docs/stable/user_guide/indexing.html#returning-a-view-versus-a-copy\n"
     ]
    },
    {
     "data": {
      "text/html": [
       "<div>\n",
       "<style scoped>\n",
       "    .dataframe tbody tr th:only-of-type {\n",
       "        vertical-align: middle;\n",
       "    }\n",
       "\n",
       "    .dataframe tbody tr th {\n",
       "        vertical-align: top;\n",
       "    }\n",
       "\n",
       "    .dataframe thead th {\n",
       "        text-align: right;\n",
       "    }\n",
       "</style>\n",
       "<table border=\"1\" class=\"dataframe\">\n",
       "  <thead>\n",
       "    <tr style=\"text-align: right;\">\n",
       "      <th></th>\n",
       "      <th>Item Name</th>\n",
       "      <th>Purchase Count</th>\n",
       "      <th>Total Sales</th>\n",
       "      <th>Average Price</th>\n",
       "    </tr>\n",
       "    <tr>\n",
       "      <th>Item ID</th>\n",
       "      <th></th>\n",
       "      <th></th>\n",
       "      <th></th>\n",
       "      <th></th>\n",
       "    </tr>\n",
       "  </thead>\n",
       "  <tbody>\n",
       "    <tr>\n",
       "      <th>92</th>\n",
       "      <td>Final Critic</td>\n",
       "      <td>13</td>\n",
       "      <td>$59.99</td>\n",
       "      <td>$4.61</td>\n",
       "    </tr>\n",
       "    <tr>\n",
       "      <th>178</th>\n",
       "      <td>Oathbreaker, Last Hope of the Breaking Storm</td>\n",
       "      <td>12</td>\n",
       "      <td>$50.76</td>\n",
       "      <td>$4.23</td>\n",
       "    </tr>\n",
       "    <tr>\n",
       "      <th>145</th>\n",
       "      <td>Fiery Glass Crusader</td>\n",
       "      <td>9</td>\n",
       "      <td>$41.22</td>\n",
       "      <td>$4.58</td>\n",
       "    </tr>\n",
       "    <tr>\n",
       "      <th>132</th>\n",
       "      <td>Persuasion</td>\n",
       "      <td>9</td>\n",
       "      <td>$28.99</td>\n",
       "      <td>$3.22</td>\n",
       "    </tr>\n",
       "    <tr>\n",
       "      <th>108</th>\n",
       "      <td>Extraction, Quickblade Of Trembling Hands</td>\n",
       "      <td>9</td>\n",
       "      <td>$31.77</td>\n",
       "      <td>$3.53</td>\n",
       "    </tr>\n",
       "  </tbody>\n",
       "</table>\n",
       "</div>"
      ],
      "text/plain": [
       "                                            Item Name  Purchase Count  \\\n",
       "Item ID                                                                 \n",
       "92                                       Final Critic              13   \n",
       "178      Oathbreaker, Last Hope of the Breaking Storm              12   \n",
       "145                              Fiery Glass Crusader               9   \n",
       "132                                        Persuasion               9   \n",
       "108         Extraction, Quickblade Of Trembling Hands               9   \n",
       "\n",
       "        Total Sales Average Price  \n",
       "Item ID                            \n",
       "92           $59.99         $4.61  \n",
       "178          $50.76         $4.23  \n",
       "145          $41.22         $4.58  \n",
       "132          $28.99         $3.22  \n",
       "108          $31.77         $3.53  "
      ]
     },
     "execution_count": 16,
     "metadata": {},
     "output_type": "execute_result"
    }
   ],
   "source": [
    "# Creating aggregrate at the Item level\n",
    "item_agg = purchase_df.groupby('Item ID')\n",
    "\n",
    "# Calculating Aggregate metrics at the item level \n",
    "item_name = pd.DataFrame(item_agg[\"Item Name\"].max()) # gets name and id. \n",
    "item_price = pd.DataFrame(item_agg[\"Price\"].mean()) # gets id and price\n",
    "item_count = pd.DataFrame(item_agg[\"Purchase ID\"].count()) # id and purchase count\n",
    "item_tot = pd.DataFrame(item_agg['Price'].sum()) # id and total sales.\n",
    "\n",
    "# combining aggregate results\n",
    "item_join = item_name.merge(item_count, on = 'Item ID',how = 'inner').merge(item_tot,on = 'Item ID').merge(item_price, on = 'Item ID')\n",
    "\n",
    "# Sorting results by count of purchase id, descending, renaming fields\n",
    "item_join = item_join.sort_values(\"Purchase ID\",ascending = False)\n",
    "item_join = item_join.rename(columns = {\"Purchase ID\":\"Purchase Count\",\"Price_x\":\"Total Sales\",\"Price_y\":\"Average Price\"})\n",
    "\n",
    "# selecting top five results\n",
    "item_pop = item_join.iloc[[0,1,2,3,4],:]\n",
    "\n",
    "# formatting dollars\n",
    "item_pop[\"Average Price\"] = item_pop[\"Average Price\"].map(\"${:.3}\".format)\n",
    "item_pop[\"Total Sales\"] = item_pop[\"Total Sales\"].map(\"${:.4}\".format)\n",
    "\n",
    "# display\n",
    "item_pop"
   ]
  },
  {
   "cell_type": "markdown",
   "metadata": {},
   "source": [
    "## Most Profitable Items"
   ]
  },
  {
   "cell_type": "code",
   "execution_count": 63,
   "metadata": {},
   "outputs": [
    {
     "data": {
      "text/html": [
       "<div>\n",
       "<style scoped>\n",
       "    .dataframe tbody tr th:only-of-type {\n",
       "        vertical-align: middle;\n",
       "    }\n",
       "\n",
       "    .dataframe tbody tr th {\n",
       "        vertical-align: top;\n",
       "    }\n",
       "\n",
       "    .dataframe thead th {\n",
       "        text-align: right;\n",
       "    }\n",
       "</style>\n",
       "<table border=\"1\" class=\"dataframe\">\n",
       "  <thead>\n",
       "    <tr style=\"text-align: right;\">\n",
       "      <th></th>\n",
       "      <th>Item Name</th>\n",
       "      <th>Purchase Count</th>\n",
       "      <th>Total Sales</th>\n",
       "      <th>Average Price</th>\n",
       "    </tr>\n",
       "    <tr>\n",
       "      <th>Item ID</th>\n",
       "      <th></th>\n",
       "      <th></th>\n",
       "      <th></th>\n",
       "      <th></th>\n",
       "    </tr>\n",
       "  </thead>\n",
       "  <tbody>\n",
       "    <tr>\n",
       "      <th>92</th>\n",
       "      <td>Final Critic</td>\n",
       "      <td>13</td>\n",
       "      <td>$59.99</td>\n",
       "      <td>$4.61</td>\n",
       "    </tr>\n",
       "    <tr>\n",
       "      <th>178</th>\n",
       "      <td>Oathbreaker, Last Hope of the Breaking Storm</td>\n",
       "      <td>12</td>\n",
       "      <td>$50.76</td>\n",
       "      <td>$4.23</td>\n",
       "    </tr>\n",
       "    <tr>\n",
       "      <th>82</th>\n",
       "      <td>Nirvana</td>\n",
       "      <td>9</td>\n",
       "      <td>$44.1</td>\n",
       "      <td>$4.9</td>\n",
       "    </tr>\n",
       "    <tr>\n",
       "      <th>145</th>\n",
       "      <td>Fiery Glass Crusader</td>\n",
       "      <td>9</td>\n",
       "      <td>$41.22</td>\n",
       "      <td>$4.58</td>\n",
       "    </tr>\n",
       "    <tr>\n",
       "      <th>103</th>\n",
       "      <td>Singed Scalpel</td>\n",
       "      <td>8</td>\n",
       "      <td>$34.8</td>\n",
       "      <td>$4.35</td>\n",
       "    </tr>\n",
       "  </tbody>\n",
       "</table>\n",
       "</div>"
      ],
      "text/plain": [
       "                                            Item Name  Purchase Count  \\\n",
       "Item ID                                                                 \n",
       "92                                       Final Critic              13   \n",
       "178      Oathbreaker, Last Hope of the Breaking Storm              12   \n",
       "82                                            Nirvana               9   \n",
       "145                              Fiery Glass Crusader               9   \n",
       "103                                    Singed Scalpel               8   \n",
       "\n",
       "        Total Sales Average Price  \n",
       "Item ID                            \n",
       "92           $59.99         $4.61  \n",
       "178          $50.76         $4.23  \n",
       "82            $44.1          $4.9  \n",
       "145          $41.22         $4.58  \n",
       "103           $34.8         $4.35  "
      ]
     },
     "execution_count": 63,
     "metadata": {},
     "output_type": "execute_result"
    }
   ],
   "source": [
    "# sorting previously created aggregate results by Total item sales, descending, \n",
    "# Selecting top five results\n",
    "item_prof = item_join.sort_values(\"Total Sales\", ascending = False).iloc[[0,1,2,3,4],:]\n",
    "\n",
    "# formatting dollars\n",
    "item_prof[\"Average Price\"] = item_prof[\"Average Price\"].map(\"${:.3}\".format)\n",
    "item_prof[\"Total Sales\"] = item_prof[\"Total Sales\"].map(\"${:.4}\".format)\n",
    "\n",
    "# display\n",
    "item_prof"
   ]
  }
 ],
 "metadata": {
  "kernelspec": {
   "display_name": "Python 3",
   "language": "python",
   "name": "python3"
  },
  "language_info": {
   "codemirror_mode": {
    "name": "ipython",
    "version": 3
   },
   "file_extension": ".py",
   "mimetype": "text/x-python",
   "name": "python",
   "nbconvert_exporter": "python",
   "pygments_lexer": "ipython3",
   "version": "3.7.6"
  }
 },
 "nbformat": 4,
 "nbformat_minor": 4
}
